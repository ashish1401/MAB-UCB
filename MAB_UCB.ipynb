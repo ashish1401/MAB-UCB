{
  "nbformat": 4,
  "nbformat_minor": 0,
  "metadata": {
    "colab": {
      "provenance": [],
      "authorship_tag": "ABX9TyPJqyw8SQAyMsREm/x89Df9",
      "include_colab_link": true
    },
    "kernelspec": {
      "name": "python3",
      "display_name": "Python 3"
    },
    "language_info": {
      "name": "python"
    }
  },
  "cells": [
    {
      "cell_type": "markdown",
      "metadata": {
        "id": "view-in-github",
        "colab_type": "text"
      },
      "source": [
        "<a href=\"https://colab.research.google.com/github/ashish1401/MAB-UCB/blob/main/MAB_UCB.ipynb\" target=\"_parent\"><img src=\"https://colab.research.google.com/assets/colab-badge.svg\" alt=\"Open In Colab\"/></a>"
      ]
    },
    {
      "cell_type": "code",
      "source": [
        "import numpy as np\n",
        "import math\n",
        "import random"
      ],
      "metadata": {
        "id": "ifS1ycRjXqK-"
      },
      "execution_count": null,
      "outputs": []
    },
    {
      "cell_type": "markdown",
      "source": [
        "Initialization of out Multi-Armed Bandit is done with each Slot-arm being accompanied by a distinct Mean but the same Variance. Using the Mean and Variance we generate random rewards corresponding to each arm."
      ],
      "metadata": {
        "id": "d6mfeP5nX4F-"
      }
    },
    {
      "cell_type": "code",
      "source": [
        "# Define the number of arms and their parameters\n",
        "num_arms = 5\n",
        "means = [1, 2, 4, 4, 5]  # All arms have the same mean\n",
        "variances = [2, 2, 2, 2, 2]\n"
      ],
      "metadata": {
        "id": "TIymkguxXxi2"
      },
      "execution_count": null,
      "outputs": []
    },
    {
      "cell_type": "markdown",
      "source": [
        "Initialise the other parameters of the UCB Algorithm such as Number of Tries, UCB Constant, An array representing rewards per arm, Number of pulls corresponding to each arm."
      ],
      "metadata": {
        "id": "4IlSfBSWY6_X"
      }
    },
    {
      "cell_type": "code",
      "source": [
        "# UCB parameters\n",
        "num_steps = 1000\n",
        "ucb_param = 2.0\n",
        "total_rewards = [0] * num_arms\n",
        "num_pulls = [0] * num_arms"
      ],
      "metadata": {
        "id": "FOoW5a6VY6L0"
      },
      "execution_count": null,
      "outputs": []
    },
    {
      "cell_type": "markdown",
      "source": [
        "Code the Multi-Armed Bandit environment. For each step calculate UCB Value for each of the arm for that given step. Every arm is pulled on the basis of it's previous pulls and exploration term given by the UCB Algorithm. <BR>\n",
        "After the UCB Algorithm is run for each Arm in one particular step, the Arm with the maximum Upper Confidence Bound is chosen and pulled."
      ],
      "metadata": {
        "id": "FXlygrxoZ_Rm"
      }
    },
    {
      "cell_type": "code",
      "source": [
        "for step in range(num_steps):\n",
        "  #stores UCB Value per iteration\n",
        "    ucb_values = [0] * num_arms\n",
        "    reward_values = [0]*num_arms;\n",
        "    for arm in range(num_arms):\n",
        "        if num_pulls[arm] == 0:\n",
        "            ucb_values[arm] = float('inf') #no prior information about the respective arm is available\n",
        "        else:\n",
        "            exploration_term = math.sqrt(ucb_param * math.log(step) / num_pulls[arm])\n",
        "            reward_values[arm] = abs(random.gauss(means[arm], np.sqrt(variances[arm])))\n",
        "            ucb_values[arm] = reward_values[arm]  + exploration_term #perform UCB Algorithm for the following arm in that step\n",
        "\n",
        "    selected_arm = np.argmax(ucb_values) #Maximises UCB for all ARMS in one particular iteration and returns the maximised index\n",
        "    selected_reward = reward_values[selected_arm]\n",
        "    total_rewards[selected_arm] += selected_reward\n",
        "    num_pulls[selected_arm] += 1"
      ],
      "metadata": {
        "id": "1Nxa5EqeZQuj"
      },
      "execution_count": null,
      "outputs": []
    },
    {
      "cell_type": "code",
      "source": [],
      "metadata": {
        "id": "UQ_LkFtZ1Wxt"
      },
      "execution_count": null,
      "outputs": []
    },
    {
      "cell_type": "code",
      "execution_count": null,
      "metadata": {
        "colab": {
          "base_uri": "https://localhost:8080/"
        },
        "id": "uDH3RbK-6O9F",
        "outputId": "3f0d63ed-e657-46ad-c117-aa4ce21c5323"
      },
      "outputs": [
        {
          "output_type": "stream",
          "name": "stdout",
          "text": [
            "Arm 1 , Total Reward: 77.08857566077306, Total Pulls: 21, Estimated Mean: 3.6708845552749074\n",
            "Arm 2 , Total Reward: 164.7622409002527, Total Pulls: 37, Estimated Mean: 4.453033537844667\n",
            "Arm 3 , Total Reward: 1143.8216942617826, Total Pulls: 210, Estimated Mean: 5.446769972675155\n",
            "Arm 4 , Total Reward: 1265.1216331943772, Total Pulls: 234, Estimated Mean: 5.406502705958877\n",
            "Arm 5 , Total Reward: 2955.5825650751, Total Pulls: 498, Estimated Mean: 5.934904749146787\n",
            "Total Reward: 5606.376709092285\n"
          ]
        }
      ],
      "source": [
        "# Print results\n",
        "for arm in range(num_arms):\n",
        "    print(f\"Arm {arm + 1} , Total Reward: {total_rewards[arm]}, Total Pulls: {num_pulls[arm]}, Reward per Pulls: {total_rewards[arm] / num_pulls[arm]}\")\n",
        "\n",
        "print(f\"Total Reward: {sum(total_rewards)}\")\n"
      ]
    },
    {
      "cell_type": "code",
      "source": [
        "print(ucb_values)"
      ],
      "metadata": {
        "id": "8UpcmbPl8Jll",
        "colab": {
          "base_uri": "https://localhost:8080/"
        },
        "outputId": "2e6951fa-7069-4970-dd91-9a180d7cd970"
      },
      "execution_count": null,
      "outputs": [
        {
          "output_type": "stream",
          "name": "stdout",
          "text": [
            "[2.4124170793506323, 2.5235019944958643, 4.500839221873259, 3.665112039462083, 6.737261062290248]\n"
          ]
        }
      ]
    },
    {
      "cell_type": "code",
      "source": [],
      "metadata": {
        "id": "w2JsrwU-HeVz"
      },
      "execution_count": null,
      "outputs": []
    }
  ]
}